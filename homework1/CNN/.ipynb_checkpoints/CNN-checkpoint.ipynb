{
 "cells": [
  {
   "cell_type": "markdown",
   "metadata": {},
   "source": [
    "### Preprocessing"
   ]
  },
  {
   "cell_type": "code",
   "execution_count": 25,
   "metadata": {},
   "outputs": [
    {
     "name": "stdout",
     "output_type": "stream",
     "text": [
      "Index(['filename', 'width', 'height', 'label', 'xmin', 'ymin', 'xmax', 'ymax'], dtype='object')\n"
     ]
    }
   ],
   "source": [
    "import cv2\n",
    "import pandas as pd\n",
    "import numpy as np\n",
    "import matplotlib.pyplot as plt\n",
    "import torch\n",
    "import torch.utils.data as Data\n",
    "train=pd.read_csv(\"train.csv\")\n",
    "test=pd.read_csv(\"test.csv\")\n",
    "print(train.columns)"
   ]
  },
  {
   "cell_type": "code",
   "execution_count": 2,
   "metadata": {},
   "outputs": [
    {
     "name": "stdout",
     "output_type": "stream",
     "text": [
      "                     filename  width  height label  xmin  ymin  xmax  ymax\n",
      "0  0602623232127-web-tete.jpg   1280     720   bad   134    84   220   166\n",
      "1  0602623232127-web-tete.jpg   1280     720   bad   420    16   460    63\n",
      "2  0602623232127-web-tete.jpg   1280     720   bad   610    26   656    77\n",
      "3  0602623232127-web-tete.jpg   1280     720  good   651    43   720   124\n",
      "4  0602623232127-web-tete.jpg   1280     720   bad   454   106   531   173\n"
     ]
    }
   ],
   "source": [
    "print(test.head())"
   ]
  },
  {
   "cell_type": "code",
   "execution_count": 3,
   "metadata": {},
   "outputs": [],
   "source": [
    "import os\n",
    "def read_directory(directory_name,target):\n",
    "    array_of_img=[]\n",
    "    # this loop is for read each image in this foder,directory_name is the foder name with images.\n",
    "    for i in range(len(target['filename'])):\n",
    "        img = cv2.imread(directory_name + \"/\" + target['filename'][i])\n",
    "        #print(img.shape)\n",
    "        #print(target['filename'][i])\n",
    "        IMAGE = img[target['ymin'][i]:target['ymax'][i],target['xmin'][i]:target['xmax'][i],:]\n",
    "        #print(IMAGE.shape)\n",
    "        array_of_img.append(IMAGE)\n",
    "    return array_of_img"
   ]
  },
  {
   "cell_type": "code",
   "execution_count": 4,
   "metadata": {},
   "outputs": [],
   "source": [
    "def display_one(a, title1 = \"Original\"):\n",
    "    plt.imshow(a), plt.title(title1)\n",
    "    plt.xticks([]), plt.yticks([])\n",
    "    plt.show()\n",
    "    #plt.savefig(\"test.jpg\")\n",
    "def display(a, b, title1 = \"Original\", title2 = \"Edited\"):\n",
    "    plt.subplot(121), plt.imshow(a), plt.title(title1)\n",
    "    plt.xticks([]), plt.yticks([])\n",
    "    plt.subplot(122), plt.imshow(b), plt.title(title2)\n",
    "    plt.xticks([]), plt.yticks([])\n",
    "    plt.show()\n",
    "def processing(data):\n",
    "    # loading image\n",
    "    # Getting 3 images to work with\n",
    "    dim =(64,64)\n",
    "    res_img=[]\n",
    "    for img in data:\n",
    "        res = cv2.resize(img, dim, interpolation=cv2.INTER_LINEAR)\n",
    "        res_img.append(res)\n",
    "\n",
    "    # Visualizing one of the images in the array\n",
    "    #original = res_img[1]\n",
    "    #display_one(original)\n",
    "    return res_img"
   ]
  },
  {
   "cell_type": "code",
   "execution_count": 5,
   "metadata": {},
   "outputs": [],
   "source": [
    "def denoise(res_img):\n",
    "    no_noise = []\n",
    "    for img in (res_img):\n",
    "        blur = cv2.GaussianBlur(img, (5, 5), 0)\n",
    "        no_noise.append(blur)\n",
    "    image = no_noise[1]\n",
    "    #display(original, image, 'Original', 'Blured')\n",
    "    return no_noise"
   ]
  },
  {
   "cell_type": "code",
   "execution_count": 6,
   "metadata": {},
   "outputs": [
    {
     "name": "stdout",
     "output_type": "stream",
     "text": [
      "Good :2846,Bad :578,None :104\n"
     ]
    }
   ],
   "source": [
    "bad=[i for i,x in enumerate(train.label) if x=='bad']\n",
    "good=[i for i,x in enumerate(train.label) if x=='good']\n",
    "none=[i for i,x in enumerate(train.label) if x=='none']\n",
    "a=sum(train.label=='bad')\n",
    "b=sum(train.label=='good')\n",
    "c=sum(train.label=='none')\n",
    "print(\"Good :{},Bad :{},None :{}\".format(b,a,c))"
   ]
  },
  {
   "cell_type": "code",
   "execution_count": 7,
   "metadata": {},
   "outputs": [],
   "source": [
    "def noisy(low_data):\n",
    "    mean = 0\n",
    "    var = 1\n",
    "    sigma = var**0.5\n",
    "    noise=[]\n",
    "    for img in low_data:\n",
    "        row,col,ch= img.shape\n",
    "        gauss = np.random.normal(loc=0,scale=1,size = (row,col,ch))\n",
    "        img=img/255.0\n",
    "        gaussian_img = np.clip((img*(1+gauss*0.2)),0,1)\n",
    "        gaussian_img = gaussian_img*255\n",
    "        noise.append(gaussian_img)\n",
    "    return noise"
   ]
  },
  {
   "cell_type": "code",
   "execution_count": 8,
   "metadata": {},
   "outputs": [],
   "source": [
    "def rotate(data):\n",
    "    rotate_left=[]\n",
    "    rotate_right=[]\n",
    "    for img in data:\n",
    "        h, w = img.shape[:2]\n",
    "        center = (w // 2, h // 2)\n",
    "        M = cv2.getRotationMatrix2D(center, -90, 1)\n",
    "        N = cv2.getRotationMatrix2D(center, 90, 1)\n",
    "        rotated_img = cv2.warpAffine(img, M, (w, h))\n",
    "        rotated_img_2 = cv2.warpAffine(img, M, (w, h))\n",
    "        rotate_left.append(rotated_img_2)\n",
    "        rotate_right.append(rotated_img)\n",
    "    return rotate_left,rotate_right"
   ]
  },
  {
   "cell_type": "code",
   "execution_count": 32,
   "metadata": {},
   "outputs": [],
   "source": [
    "labels=np.zeros((len(train),3))\n",
    "for i,x in enumerate(train.label):\n",
    "    if x =='good':\n",
    "        labels[i][0]=1\n",
    "    elif x=='bad':\n",
    "        labels[i][1]=1\n",
    "    else :\n",
    "        labels[i][2]=1\n",
    "bad_labels=np.zeros((len(bad),3))\n",
    "for i in range (len(bad_labels)):\n",
    "    bad_labels[i][1]=1\n",
    "none_labels=np.zeros((len(none),3))\n",
    "for i in range (len(none_labels)):\n",
    "    none_labels[i][1]=1"
   ]
  },
  {
   "cell_type": "code",
   "execution_count": 11,
   "metadata": {},
   "outputs": [],
   "source": [
    "x_ = read_directory('images',train)\n",
    "x_pro=processing(x_)\n",
    "x_den=denoise(x_pro)\n",
    "bad_data=[x_pro[x] for x in bad]\n",
    "bad_noise=noisy(bad_data)\n",
    "none_data=[x_pro[x] for x in none]\n",
    "none_noise=noisy(none_data)\n",
    "x_bad_noises = np.array(bad_noise,dtype=int)\n",
    "x_none_noises = np.array(none_noise,dtype=int)\n",
    "left,right=rotate(bad_data)\n",
    "left_none,right_none = rotate(none_data)"
   ]
  },
  {
   "cell_type": "code",
   "execution_count": 44,
   "metadata": {},
   "outputs": [
    {
     "name": "stdout",
     "output_type": "stream",
     "text": [
      "3528 3528\n"
     ]
    }
   ],
   "source": [
    "de_none=np.array([x_den[x]for x in none])\n",
    "data1=np.array(x_pro)\n",
    "data2=np.array(x_den)\n",
    "data3=(x_bad_noises)\n",
    "data4=np.array(right)\n",
    "data5=np.array(left)\n",
    "data6=np.array(right_none)\n",
    "data7=np.array(left_none)\n",
    "data8=x_none_noises\n",
    "#data = np.concatenate([data1,data3,data4,data5,de_none,data6,data7,data8])\n",
    "#label= np.concatenate([labels,bad_labels,bad_labels,bad_labels,none_labels,none_labels,none_labels,none_labels])\n",
    "data = data1\n",
    "label = labels\n",
    "print(len(data),len(label))\n",
    "#print(type(data),type(label))\n"
   ]
  },
  {
   "cell_type": "markdown",
   "metadata": {},
   "source": [
    "### Dataloader"
   ]
  },
  {
   "cell_type": "code",
   "execution_count": 45,
   "metadata": {},
   "outputs": [],
   "source": [
    "test_ = read_directory('images',test)\n",
    "\n",
    "test_pro = processing(test_)\n",
    "labels=np.zeros((len(test),3))\n",
    "for i,x in enumerate(test.label):\n",
    "    if x =='good':\n",
    "        labels[i][0]=1\n",
    "    elif x=='bad':\n",
    "        labels[i][1]=1\n",
    "    else :\n",
    "        labels[i][2]=1\n",
    "x=torch.from_numpy(np.array(test_pro))\n",
    "y=torch.from_numpy(labels)\n",
    "torch.manual_seed(1)    # reproducible\n",
    "BATCH_SIZE = 30      # 批训练的数据个数\n",
    "torch_dataset = Data.TensorDataset(x,y)\n",
    "test_loader = Data.DataLoader(dataset=torch_dataset,      \n",
    "    batch_size=BATCH_SIZE,shuffle=True,num_workers=2,)"
   ]
  },
  {
   "cell_type": "code",
   "execution_count": null,
   "metadata": {},
   "outputs": [],
   "source": [
    "print(y[:,0].sum())"
   ]
  },
  {
   "cell_type": "code",
   "execution_count": 46,
   "metadata": {},
   "outputs": [],
   "source": [
    "\n",
    "x=torch.from_numpy(data)\n",
    "y=torch.from_numpy(label)\n",
    "#x = torch.tensor(train['datas'].values)\n",
    "#y = torch.tensor(train['labels'].values)\n",
    "\n",
    "torch.manual_seed(1)    # reproducible\n",
    "BATCH_SIZE = 30      # 批训练的数据个数\n",
    "torch_dataset = Data.TensorDataset(x,y)\n",
    "train_loader = Data.DataLoader(dataset=torch_dataset,      \n",
    "    batch_size=BATCH_SIZE,shuffle=True,num_workers=2,)"
   ]
  },
  {
   "cell_type": "markdown",
   "metadata": {},
   "source": [
    "### Model "
   ]
  },
  {
   "cell_type": "code",
   "execution_count": 15,
   "metadata": {},
   "outputs": [],
   "source": [
    "import torch.nn as nn\n",
    "import torch\n",
    "import torch.nn.functional as F"
   ]
  },
  {
   "cell_type": "code",
   "execution_count": 35,
   "metadata": {},
   "outputs": [],
   "source": [
    "class CNN(nn.Module):  \n",
    "    def __init__(self):  \n",
    "        super(CNN, self).__init__()  \n",
    "        self.conv1 = nn.Sequential( # (1,28,28)  \n",
    "                     nn.Conv2d(3, 16, kernel_size=3,  \n",
    "                               stride=1, padding=1), # (16,28,28)  \n",
    "        # 想要con2d卷積出來的圖片尺寸沒有變化, padding=(kernel_size-1)/2  \n",
    "                     nn.ReLU(),  \n",
    "                     nn.MaxPool2d(2), # (16,14,14)  \n",
    "                     #nn.Dropout2d(0.2)\n",
    "                     )  \n",
    "        self.conv2 = nn.Sequential( # (16,14,14)  \n",
    "                     nn.Conv2d(16, 32, 3, 1, 1), # (32,14,14)  \n",
    "                     nn.ReLU(),  \n",
    "                     nn.MaxPool2d(2), # (32,7,7)\n",
    "                     #nn.Dropout2d(0.1)\n",
    "                     )\n",
    "        self.conv3 = nn.Sequential( # (16,14,14)  \n",
    "                     nn.Conv2d(32, 64, 3, 1, 1), # (32,14,14)  \n",
    "                     nn.ReLU(),  \n",
    "                     #nn.AvgPool2d(2), # (32,7,7)\n",
    "                     nn.MaxPool2d(2),\n",
    "                     #nn.Dropout2d(0.1)\n",
    "                     )\n",
    "        self.out = nn.Linear(4096, 3)  \n",
    "    def forward(self,x):\n",
    "        x = self.conv1(x)\n",
    "        x = self.conv2(x)\n",
    "        x = self.conv3(x)\n",
    "        x = torch.flatten(x, 1)\n",
    "        x = self.out(x)\n",
    "        output = F.log_softmax(x, 1)\n",
    "        return output\n",
    "\n",
    "def train_mask(model,train_data, optimizer, epoch,cuda):\n",
    "    model.train()\n",
    "    correct = 0\n",
    "    train_loss = 0\n",
    "    mts=[]\n",
    "    for batch_idx, (data, target) in enumerate(train_data):\n",
    "        if cuda!='cpu':\n",
    "            data = data.type(torch.FloatTensor)\n",
    "            target = target.type(torch.LongTensor)\n",
    "            data, target = data.to(cuda), target.to(cuda)\n",
    "\n",
    "        data = data.transpose(1,3)#.transpose(2,3)\n",
    "        #print(data.shape)\n",
    "        optimizer.zero_grad()\n",
    "        output = model(data)\n",
    "        loss = nn.CrossEntropyLoss()\n",
    "        loss = loss(output, torch.max(target, 1)[1])\n",
    "        loss.backward()\n",
    "        optimizer.step() \n",
    "        train_loss +=loss\n",
    "        pred = output.argmax(dim=1, keepdim=True)\n",
    "        for i in range(len(pred )):\n",
    "            if pred[i].item() == torch.max(target, 1)[1][i].item():\n",
    "                correct+=1\n",
    "    correct /= len(train_data.dataset)\n",
    "    train_loss /= len(train_data)\n",
    "    print('Epoch:', epoch,'|train loss:%.4f'%train_loss.item(),'|train accuracy: %.4f'%correct)\n",
    "    mts.append([epoch,train_loss.item(),correct])\n",
    "    return mts\n",
    "def test_mask(model,test_data,cuda):\n",
    "    model.eval()\n",
    "    test_loss = 0\n",
    "    correct = 0\n",
    "    mt=[]\n",
    "    with torch.no_grad():\n",
    "        for idx,(data, target) in enumerate(test_data):\n",
    "            #print(target)\n",
    "            #print(torch.max(target, 1)[1])\n",
    "            if cuda !='cpu':\n",
    "                data = data.type(torch.FloatTensor)\n",
    "                target = target.type(torch.LongTensor)\n",
    "                data, target = data.to(cuda), target.to(cuda)\n",
    "            data = data.transpose(1,3)#.transpose(2,3)\n",
    "            output = model(data)\n",
    "            loss = nn.CrossEntropyLoss()\n",
    "            test_loss += loss(output, torch.max(target, 1)[1])  # sum up batch loss\n",
    "            pred = output.argmax(dim=1, keepdim=True)  # get the index of the max log-probability\n",
    "            #print(pred)\n",
    "            #print(pred.eq(target).sum())\n",
    "            #print(pred[0].item(),torch.max(target[0]).item())\n",
    "            for i in range(len(pred)):\n",
    "                if pred[i].item() == torch.max(target, 1)[1][i].item():\n",
    "                    correct+=1\n",
    "    #print(correct)\n",
    "    test_loss /= len(test_data)\n",
    "    correct /= len(test_data.dataset)\n",
    "    #test_matrix.append([test_loss.item(),correct])\n",
    "    mt.append([test_loss.item(),correct])\n",
    "    print('|test loss:%.4f'% test_loss.item(),'|test accuracy: %.4f'% correct)\n",
    "    return mt"
   ]
  },
  {
   "cell_type": "code",
   "execution_count": 47,
   "metadata": {
    "scrolled": true
   },
   "outputs": [
    {
     "name": "stdout",
     "output_type": "stream",
     "text": [
      "use_cuda or not: cuda:0\n",
      "Epoch: 0 |train loss:2.9713 |train accuracy: 0.7826\n",
      "|test loss:0.7523 |test accuracy: 0.7183\n",
      "Epoch: 1 |train loss:0.3112 |train accuracy: 0.8855\n",
      "|test loss:0.2675 |test accuracy: 0.9036\n",
      "Epoch: 2 |train loss:0.2325 |train accuracy: 0.9238\n",
      "|test loss:0.2933 |test accuracy: 0.9086\n",
      "Epoch: 3 |train loss:0.1968 |train accuracy: 0.9357\n",
      "|test loss:0.3396 |test accuracy: 0.8782\n",
      "Epoch: 4 |train loss:0.2062 |train accuracy: 0.9337\n",
      "|test loss:0.3284 |test accuracy: 0.8782\n",
      "Epoch: 5 |train loss:0.2183 |train accuracy: 0.9277\n",
      "|test loss:0.3804 |test accuracy: 0.8680\n",
      "Epoch: 6 |train loss:0.2586 |train accuracy: 0.9172\n",
      "|test loss:0.3000 |test accuracy: 0.9010\n",
      "Epoch: 7 |train loss:0.2028 |train accuracy: 0.9311\n",
      "|test loss:0.2586 |test accuracy: 0.9086\n",
      "Epoch: 8 |train loss:0.2237 |train accuracy: 0.9215\n",
      "|test loss:0.3101 |test accuracy: 0.8909\n",
      "Epoch: 9 |train loss:0.1978 |train accuracy: 0.9314\n",
      "|test loss:0.3749 |test accuracy: 0.9036\n",
      "Epoch: 10 |train loss:0.1898 |train accuracy: 0.9371\n",
      "|test loss:0.2627 |test accuracy: 0.9036\n",
      "Epoch: 11 |train loss:0.1870 |train accuracy: 0.9362\n",
      "|test loss:0.2659 |test accuracy: 0.9061\n",
      "Epoch: 12 |train loss:0.2106 |train accuracy: 0.9269\n",
      "|test loss:0.3338 |test accuracy: 0.8832\n",
      "Epoch: 13 |train loss:0.2159 |train accuracy: 0.9280\n",
      "|test loss:0.3259 |test accuracy: 0.8807\n",
      "Epoch: 14 |train loss:0.1953 |train accuracy: 0.9382\n",
      "|test loss:0.3652 |test accuracy: 0.8832\n",
      "Epoch: 15 |train loss:0.2027 |train accuracy: 0.9300\n",
      "|test loss:0.3284 |test accuracy: 0.9061\n",
      "Epoch: 16 |train loss:0.2609 |train accuracy: 0.9167\n",
      "|test loss:0.3402 |test accuracy: 0.8832\n",
      "Epoch: 17 |train loss:0.2097 |train accuracy: 0.9283\n",
      "|test loss:0.3807 |test accuracy: 0.9036\n",
      "Epoch: 18 |train loss:0.4139 |train accuracy: 0.8520\n",
      "|test loss:0.9357 |test accuracy: 0.7183\n",
      "Epoch: 19 |train loss:0.5305 |train accuracy: 0.8053\n",
      "|test loss:0.6660 |test accuracy: 0.7310\n",
      "Epoch: 20 |train loss:0.4477 |train accuracy: 0.8302\n",
      "|test loss:0.6144 |test accuracy: 0.7741\n",
      "Epoch: 21 |train loss:0.3497 |train accuracy: 0.8798\n",
      "|test loss:0.5171 |test accuracy: 0.8782\n",
      "Epoch: 22 |train loss:0.2650 |train accuracy: 0.9096\n",
      "|test loss:0.3092 |test accuracy: 0.9036\n",
      "Epoch: 23 |train loss:0.2302 |train accuracy: 0.9252\n",
      "|test loss:0.3262 |test accuracy: 0.9112\n",
      "Epoch: 24 |train loss:0.2432 |train accuracy: 0.9209\n",
      "|test loss:0.3082 |test accuracy: 0.9162\n",
      "Epoch: 25 |train loss:0.2332 |train accuracy: 0.9221\n",
      "|test loss:0.3087 |test accuracy: 0.9010\n",
      "Epoch: 26 |train loss:0.2429 |train accuracy: 0.9164\n",
      "|test loss:0.3056 |test accuracy: 0.8934\n",
      "Epoch: 27 |train loss:0.2388 |train accuracy: 0.9195\n",
      "|test loss:0.2880 |test accuracy: 0.9112\n",
      "Epoch: 28 |train loss:0.2975 |train accuracy: 0.9056\n",
      "|test loss:0.2714 |test accuracy: 0.9061\n",
      "Epoch: 29 |train loss:0.1988 |train accuracy: 0.9331\n",
      "|test loss:0.2450 |test accuracy: 0.9213\n",
      "Epoch: 30 |train loss:0.1949 |train accuracy: 0.9334\n",
      "|test loss:0.2596 |test accuracy: 0.9162\n",
      "Epoch: 31 |train loss:0.1894 |train accuracy: 0.9345\n",
      "|test loss:0.2582 |test accuracy: 0.9264\n",
      "Epoch: 32 |train loss:0.1890 |train accuracy: 0.9351\n",
      "|test loss:0.2553 |test accuracy: 0.9137\n",
      "Epoch: 33 |train loss:0.1846 |train accuracy: 0.9359\n",
      "|test loss:0.2637 |test accuracy: 0.9137\n",
      "Epoch: 34 |train loss:0.1810 |train accuracy: 0.9371\n",
      "|test loss:0.2593 |test accuracy: 0.9061\n",
      "Epoch: 35 |train loss:0.1767 |train accuracy: 0.9362\n",
      "|test loss:0.2579 |test accuracy: 0.9036\n",
      "Epoch: 36 |train loss:0.1742 |train accuracy: 0.9385\n",
      "|test loss:0.2607 |test accuracy: 0.9061\n",
      "Epoch: 37 |train loss:0.1811 |train accuracy: 0.9323\n",
      "|test loss:0.2736 |test accuracy: 0.9061\n",
      "Epoch: 38 |train loss:0.1726 |train accuracy: 0.9393\n",
      "|test loss:0.2692 |test accuracy: 0.9086\n",
      "Epoch: 39 |train loss:0.1681 |train accuracy: 0.9391\n",
      "|test loss:0.2538 |test accuracy: 0.9086\n",
      "Epoch: 40 |train loss:0.1741 |train accuracy: 0.9408\n",
      "|test loss:0.2579 |test accuracy: 0.9162\n",
      "Epoch: 41 |train loss:0.1729 |train accuracy: 0.9371\n",
      "|test loss:0.2677 |test accuracy: 0.9137\n",
      "Epoch: 42 |train loss:0.1689 |train accuracy: 0.9413\n",
      "|test loss:0.2704 |test accuracy: 0.9112\n",
      "Epoch: 43 |train loss:0.1736 |train accuracy: 0.9379\n",
      "|test loss:0.3417 |test accuracy: 0.9086\n",
      "Epoch: 44 |train loss:0.1640 |train accuracy: 0.9433\n",
      "|test loss:0.2770 |test accuracy: 0.9137\n",
      "Epoch: 45 |train loss:0.1611 |train accuracy: 0.9444\n",
      "|test loss:0.2810 |test accuracy: 0.9137\n",
      "Epoch: 46 |train loss:0.1620 |train accuracy: 0.9408\n",
      "|test loss:0.3422 |test accuracy: 0.9162\n",
      "Epoch: 47 |train loss:0.1611 |train accuracy: 0.9419\n",
      "|test loss:0.2878 |test accuracy: 0.9137\n",
      "Epoch: 48 |train loss:0.1575 |train accuracy: 0.9436\n",
      "|test loss:0.2944 |test accuracy: 0.9036\n",
      "Epoch: 49 |train loss:0.1546 |train accuracy: 0.9450\n",
      "|test loss:0.2890 |test accuracy: 0.9112\n",
      "Epoch: 50 |train loss:0.1562 |train accuracy: 0.9456\n",
      "|test loss:0.3077 |test accuracy: 0.9137\n",
      "Epoch: 51 |train loss:0.1581 |train accuracy: 0.9464\n",
      "|test loss:0.3294 |test accuracy: 0.9137\n",
      "Epoch: 52 |train loss:0.1572 |train accuracy: 0.9456\n",
      "|test loss:0.3075 |test accuracy: 0.9112\n",
      "Epoch: 53 |train loss:0.1562 |train accuracy: 0.9461\n",
      "|test loss:0.3160 |test accuracy: 0.9112\n",
      "Epoch: 54 |train loss:0.1553 |train accuracy: 0.9470\n",
      "|test loss:0.3001 |test accuracy: 0.9112\n",
      "Epoch: 55 |train loss:0.1548 |train accuracy: 0.9470\n",
      "|test loss:0.2990 |test accuracy: 0.9112\n",
      "Epoch: 56 |train loss:0.1482 |train accuracy: 0.9493\n",
      "|test loss:0.3171 |test accuracy: 0.9137\n",
      "Epoch: 57 |train loss:0.1466 |train accuracy: 0.9498\n",
      "|test loss:0.3178 |test accuracy: 0.9137\n",
      "Epoch: 58 |train loss:0.1470 |train accuracy: 0.9507\n",
      "|test loss:0.3272 |test accuracy: 0.9137\n",
      "Epoch: 59 |train loss:0.1390 |train accuracy: 0.9529\n",
      "|test loss:0.3242 |test accuracy: 0.9137\n",
      "Epoch: 60 |train loss:0.1392 |train accuracy: 0.9544\n",
      "|test loss:0.3236 |test accuracy: 0.9137\n",
      "Epoch: 61 |train loss:0.1379 |train accuracy: 0.9544\n",
      "|test loss:0.3280 |test accuracy: 0.9061\n",
      "Epoch: 62 |train loss:0.1377 |train accuracy: 0.9541\n",
      "|test loss:0.3200 |test accuracy: 0.9112\n",
      "Epoch: 63 |train loss:0.1382 |train accuracy: 0.9544\n",
      "|test loss:0.3217 |test accuracy: 0.9061\n",
      "Epoch: 64 |train loss:0.1374 |train accuracy: 0.9552\n",
      "|test loss:0.3223 |test accuracy: 0.9061\n",
      "Epoch: 65 |train loss:0.1381 |train accuracy: 0.9544\n",
      "|test loss:0.3492 |test accuracy: 0.9112\n",
      "Epoch: 66 |train loss:0.1369 |train accuracy: 0.9549\n",
      "|test loss:0.3238 |test accuracy: 0.9112\n",
      "Epoch: 67 |train loss:0.1367 |train accuracy: 0.9552\n",
      "|test loss:0.3234 |test accuracy: 0.9086\n",
      "Epoch: 68 |train loss:0.1364 |train accuracy: 0.9563\n",
      "|test loss:0.3162 |test accuracy: 0.9112\n",
      "Epoch: 69 |train loss:0.1374 |train accuracy: 0.9546\n",
      "|test loss:0.3338 |test accuracy: 0.9086\n",
      "Epoch: 70 |train loss:0.1364 |train accuracy: 0.9549\n",
      "|test loss:0.3278 |test accuracy: 0.9086\n",
      "Epoch: 71 |train loss:0.1358 |train accuracy: 0.9552\n",
      "|test loss:0.3335 |test accuracy: 0.9086\n",
      "Epoch: 72 |train loss:0.1369 |train accuracy: 0.9558\n",
      "|test loss:0.3645 |test accuracy: 0.9061\n",
      "Epoch: 73 |train loss:0.1356 |train accuracy: 0.9552\n",
      "|test loss:0.3382 |test accuracy: 0.9112\n",
      "Epoch: 74 |train loss:0.1354 |train accuracy: 0.9555\n",
      "|test loss:0.3356 |test accuracy: 0.9061\n",
      "Epoch: 75 |train loss:0.1355 |train accuracy: 0.9561\n",
      "|test loss:0.3558 |test accuracy: 0.9086\n",
      "Epoch: 76 |train loss:0.1350 |train accuracy: 0.9563\n",
      "|test loss:0.3281 |test accuracy: 0.9086\n",
      "Epoch: 77 |train loss:0.1348 |train accuracy: 0.9561\n",
      "|test loss:0.3274 |test accuracy: 0.9086\n",
      "Epoch: 78 |train loss:0.1347 |train accuracy: 0.9563\n",
      "|test loss:0.3318 |test accuracy: 0.9086\n",
      "Epoch: 79 |train loss:0.1344 |train accuracy: 0.9566\n",
      "|test loss:0.3345 |test accuracy: 0.9061\n",
      "Epoch: 80 |train loss:0.1358 |train accuracy: 0.9555\n",
      "|test loss:0.3788 |test accuracy: 0.9086\n",
      "Epoch: 81 |train loss:0.1339 |train accuracy: 0.9563\n",
      "|test loss:0.3883 |test accuracy: 0.9061\n",
      "Epoch: 82 |train loss:0.1350 |train accuracy: 0.9566\n",
      "|test loss:0.3330 |test accuracy: 0.9061\n",
      "Epoch: 83 |train loss:0.1339 |train accuracy: 0.9563\n",
      "|test loss:0.3895 |test accuracy: 0.9061\n",
      "Epoch: 84 |train loss:0.1336 |train accuracy: 0.9566\n",
      "|test loss:0.3514 |test accuracy: 0.9112\n",
      "Epoch: 85 |train loss:0.1330 |train accuracy: 0.9561\n",
      "|test loss:0.3353 |test accuracy: 0.9112\n",
      "Epoch: 86 |train loss:0.1330 |train accuracy: 0.9555\n",
      "|test loss:0.3430 |test accuracy: 0.9112\n",
      "Epoch: 87 |train loss:0.1331 |train accuracy: 0.9558\n"
     ]
    },
    {
     "name": "stdout",
     "output_type": "stream",
     "text": [
      "|test loss:0.3400 |test accuracy: 0.9086\n",
      "Epoch: 88 |train loss:0.1325 |train accuracy: 0.9569\n",
      "|test loss:0.3628 |test accuracy: 0.9061\n",
      "Epoch: 89 |train loss:0.1315 |train accuracy: 0.9569\n",
      "|test loss:0.4955 |test accuracy: 0.9061\n",
      "Epoch: 90 |train loss:0.1315 |train accuracy: 0.9569\n",
      "|test loss:0.3677 |test accuracy: 0.9061\n",
      "Epoch: 91 |train loss:0.1314 |train accuracy: 0.9569\n",
      "|test loss:0.3313 |test accuracy: 0.9061\n",
      "Epoch: 92 |train loss:0.1319 |train accuracy: 0.9569\n",
      "|test loss:0.3495 |test accuracy: 0.9061\n",
      "Epoch: 93 |train loss:0.1313 |train accuracy: 0.9572\n",
      "|test loss:0.3325 |test accuracy: 0.9061\n",
      "Epoch: 94 |train loss:0.1318 |train accuracy: 0.9575\n",
      "|test loss:0.3713 |test accuracy: 0.9061\n",
      "Epoch: 95 |train loss:0.1311 |train accuracy: 0.9572\n",
      "|test loss:0.3528 |test accuracy: 0.9061\n",
      "Epoch: 96 |train loss:0.1316 |train accuracy: 0.9572\n",
      "|test loss:0.3362 |test accuracy: 0.9061\n",
      "Epoch: 97 |train loss:0.1309 |train accuracy: 0.9575\n",
      "|test loss:0.3526 |test accuracy: 0.9061\n",
      "Epoch: 98 |train loss:0.1317 |train accuracy: 0.9575\n",
      "|test loss:0.3484 |test accuracy: 0.9061\n",
      "Epoch: 99 |train loss:0.1317 |train accuracy: 0.9575\n",
      "|test loss:0.3387 |test accuracy: 0.9061\n"
     ]
    }
   ],
   "source": [
    "#%store -r train_loader\n",
    "from torch.optim.lr_scheduler import StepLR\n",
    "use_cuda = torch.device('cuda:0' if torch.cuda.is_available() else 'cpu')\n",
    "print(\"use_cuda or not:\",use_cuda)\n",
    "Mask = CNN().to(use_cuda)\n",
    "optimizer = torch.optim.Adam(Mask.parameters(), lr=0.01)\n",
    "#critien = nn.CrossEntropyLoss()\n",
    "lambda1 = lambda epoch: epoch // 30\n",
    "lambda2 = lambda epoch: 0.95 ** epoch\n",
    "#scheduler = LambdaLR(optimizer, lr_lambda=[lambda1, lambda2])\n",
    "scheduler = StepLR(optimizer, step_size=30, gamma=0.1)\n",
    "matrix_epoch=[]\n",
    "train_matrix=[]\n",
    "test_matrix=[]   \n",
    "for epoch in range(100): #每次epoch 都計算train和test的loss\n",
    "    scheduler.step()\n",
    "    mt1 = train_mask(Mask,train_loader,optimizer,epoch,use_cuda)\n",
    "    mt2 = test_mask(Mask, test_loader,use_cuda)\n",
    "    train_matrix.append(mt1)\n",
    "    test_matrix.append(mt2)\n",
    "torch.save(Mask.state_dict(), \"mask_cnn_mx_.pkl\")"
   ]
  },
  {
   "cell_type": "code",
   "execution_count": 37,
   "metadata": {},
   "outputs": [],
   "source": [
    "train_loss=[]\n",
    "train_acc=[]\n",
    "for mt in train_matrix:\n",
    "    for z,s,c in mt:\n",
    "        train_loss.append(s)\n",
    "        train_acc.append(c)\n",
    "train_loss=np.array(train_loss)\n",
    "train_acc=np.array(train_acc)\n",
    "test_loss=[]\n",
    "test_acc=[]\n",
    "for mt in test_matrix:\n",
    "    for z,s in mt:\n",
    "        test_loss.append(z)\n",
    "        test_acc.append(s)\n",
    "test_loss=np.array(test_loss)\n",
    "test_acc=np.array(test_acc)\n",
    "#print(train_loss)"
   ]
  },
  {
   "cell_type": "code",
   "execution_count": 38,
   "metadata": {},
   "outputs": [
    {
     "data": {
      "image/png": "[encoded data removed]",
      "text/plain": [
       "<matplotlib.figure.Figure at 0x7f7fc75a7390>"
      ]
     },
     "metadata": {},
     "output_type": "display_data"
    }
   ],
   "source": [
    "fig = plt.figure()\n",
    "plt.ylim(0, 0.9)\n",
    "#for key,value in data_dict.items():\n",
    "plt.plot(range(1,len(train_loss)+1), train_loss,label='train')\n",
    "plt.plot(range(1,len(test_loss)+1), test_loss,label='test')\n",
    "plt.legend(loc='best')\n",
    "plt.title(\"Mask\")\n",
    "plt.ylabel(\"loss\")\n",
    "plt.xlabel(\"epochs\")\n",
    "plt.hlines([50,105], 1, len(train_loss) + 1, linestyles='dashed', colors=(0, 0, 0, 1))\n",
    "plt.show()"
   ]
  },
  {
   "cell_type": "code",
   "execution_count": 39,
   "metadata": {},
   "outputs": [
    {
     "data": {
      "image/png": "[encoded data removed]",
      "text/plain": [
       "<matplotlib.figure.Figure at 0x7f800f5912b0>"
      ]
     },
     "metadata": {},
     "output_type": "display_data"
    }
   ],
   "source": [
    "fig = plt.figure()\n",
    "plt.ylim(50, 105)\n",
    "#for key,value in data_dict.items():\n",
    "plt.plot(range(1,len(train_acc)+1), train_acc*100,label='train')\n",
    "plt.plot(range(1,len(test_acc)+1), test_acc*100,label='test')\n",
    "plt.legend(loc='best')\n",
    "plt.title(\"Mask\")\n",
    "plt.ylabel(\"accuracy\")\n",
    "plt.xlabel(\"epochs\")\n",
    "plt.hlines([50,105], 1, len(train_loss) + 1, linestyles='dashed', colors=(0, 0, 0, 1))\n",
    "plt.show()"
   ]
  },
  {
   "cell_type": "code",
   "execution_count": 48,
   "metadata": {},
   "outputs": [],
   "source": [
    "Demo = CNN().to(use_cuda)\n",
    "paras = torch.load(\"mask_cnn_mx_.pkl\")\n",
    "Demo.load_state_dict(paras)\n",
    "def evaluation(data,models,cuda):\n",
    "    #test_loader = DataLoader(test_dataset, len(test_dataset))\n",
    "    #keys = [\"good\",\"bad\",\"none\"]\n",
    "    #ac_={}\n",
    "    #for key in keys:\n",
    "    #    ac_.update({key + \"_acc\": [] })\n",
    "    #for _ in range(500):\n",
    "    gd_good = 0\n",
    "    gd_bad = 0\n",
    "    gd_none = 0\n",
    "    correct_good = 0\n",
    "    correct_bad = 0\n",
    "    correct_none = 0\n",
    "    for _,(data, target) in enumerate(data):\n",
    "        if cuda !='cpu':\n",
    "            data = data.type(torch.FloatTensor)\n",
    "            target = target.type(torch.LongTensor)\n",
    "            data, target = data.to(cuda), target.to(cuda)\n",
    "        data = data.transpose(1,3)\n",
    "        # print(key)\n",
    "        # models.load_state_dict(torch.load(load_model_name))\n",
    "        output = models.forward(data)\n",
    "        pred = output.argmax(dim=1, keepdim=True)\n",
    "        \n",
    "        for i in range(len(pred)):\n",
    "            ground_truth = torch.max(target, 1)[1][i].item()\n",
    "            if ground_truth == 0:\n",
    "                gd_good+=1\n",
    "                if pred[i].item() == ground_truth:\n",
    "                    correct_good+=1\n",
    "            elif ground_truth == 1:\n",
    "                gd_bad+=1\n",
    "                if pred[i].item() == ground_truth:\n",
    "                    correct_bad+=1\n",
    "            else:\n",
    "                gd_none+=1\n",
    "                if pred[i].item() == ground_truth:\n",
    "                    correct_none+=1\n",
    "        \n",
    "        #ac_[key[0]+\"_acc\"].append(correct_good)\n",
    "        #ac_[key[1]+\"_acc\"].append(correct_bad)\n",
    "    print(\"good_acc: {} , bad_acc: {} , none_acc: {}\".format(correct_good / gd_good,correct_bad / gd_bad ,correct_none /gd_none))    \n",
    "    #return correct_good / gd_good,correct_bad / gd_bad ,correct_none /gd_none"
   ]
  },
  {
   "cell_type": "code",
   "execution_count": null,
   "metadata": {},
   "outputs": [],
   "source": [
    "print(Demo)"
   ]
  },
  {
   "cell_type": "code",
   "execution_count": 49,
   "metadata": {},
   "outputs": [
    {
     "name": "stdout",
     "output_type": "stream",
     "text": [
      "good_acc: 0.9736472241742797 , bad_acc: 0.9550173010380623 , none_acc: 0.5288461538461539\n",
      "good_acc: 0.9399293286219081 , bad_acc: 0.9438202247191011 , none_acc: 0.3181818181818182\n"
     ]
    }
   ],
   "source": [
    "evaluation(train_loader,Demo,use_cuda)\n",
    "evaluation(test_loader,Demo,use_cuda)"
   ]
  },
  {
   "cell_type": "code",
   "execution_count": null,
   "metadata": {},
   "outputs": [],
   "source": []
  }
 ],
 "metadata": {
  "kernelspec": {
   "display_name": "Python 3",
   "language": "python",
   "name": "python3"
  },
  "language_info": {
   "codemirror_mode": {
    "name": "ipython",
    "version": 3
   },
   "file_extension": ".py",
   "mimetype": "text/x-python",
   "name": "python",
   "nbconvert_exporter": "python",
   "pygments_lexer": "ipython3",
   "version": "3.6.7"
  }
 },
 "nbformat": 4,
 "nbformat_minor": 2
}
